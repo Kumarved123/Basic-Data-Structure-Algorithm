{
 "cells": [
  {
   "cell_type": "code",
   "execution_count": null,
   "metadata": {},
   "outputs": [],
   "source": [
    "#Insertion Sorting\n",
    "'''insert numbers and arrange them in assending and desending order.'''\n",
    "\n",
    "list= []\n",
    "length =int (input(\"enter the length of the list \"))\n",
    "print(\"entre numbers\")\n",
    "for i in range(length):\n",
    "    data=input()\n",
    "    list.append(data)\n",
    "print(list)\n",
    "\n",
    "for j in range(1,length):\n",
    "    max = list[j]\n",
    "    k = j -1\n",
    "    while (k>=0) and (list[k]>max):\n",
    "        \n",
    "        list[k],list[k+1] = list[k+1],list[k]\n",
    "        k =k-1\n",
    "      \n",
    "    list[k+1] = max\n",
    "print(list)"
   ]
  },
  {
   "cell_type": "code",
   "execution_count": null,
   "metadata": {
    "scrolled": true
   },
   "outputs": [],
   "source": [
    "#Selection Sorting\n",
    "'''insert numbers and arrange them in assending and desending order.'''\n",
    "\n",
    "list= []\n",
    "length =int (input(\"enter the length of the list \"))\n",
    "print(\"entre numbers\")\n",
    "for n in range(length):\n",
    "    data=input()\n",
    "    list.append(data)\n",
    "print(list)\n",
    " \n",
    "for i in range(length):\n",
    "    print(i)\n",
    "    min = list[i]\n",
    "    print(\"min = \")\n",
    "    print(min)\n",
    "    for j in range(i+1,length):\n",
    "        print(min > list[j])\n",
    "        if min > list[j]:\n",
    "            list[i],list[j]= list[j],list[i]\n",
    "            \n",
    "            \n",
    "            print(list)\n",
    "            \n",
    "        \n",
    "print(list)\n",
    "            "
   ]
  },
  {
   "cell_type": "code",
   "execution_count": 5,
   "metadata": {},
   "outputs": [
    {
     "ename": "SyntaxError",
     "evalue": "invalid syntax (<ipython-input-5-baeb103f5033>, line 11)",
     "output_type": "error",
     "traceback": [
      "\u001b[1;36m  File \u001b[1;32m\"<ipython-input-5-baeb103f5033>\"\u001b[1;36m, line \u001b[1;32m11\u001b[0m\n\u001b[1;33m    for j range(0, length-i-1):\u001b[0m\n\u001b[1;37m              ^\u001b[0m\n\u001b[1;31mSyntaxError\u001b[0m\u001b[1;31m:\u001b[0m invalid syntax\n"
     ]
    }
   ],
   "source": [
    "#Bubble Sorting\n",
    "'''insert numbers and arrange them in assending and desending order.'''\n",
    "\n",
    "list= []\n",
    "length =int (input(\"enter the length of the list \"))\n",
    "print(\"entre numbers\")\n",
    "for i in range(length):\n",
    "    data=input()\n",
    "    list.append(data)\n",
    "    print(list)\n",
    "    for j range(0, length-i-1):\n",
    "        print(list[j]>list[j+1])\n",
    "        if list[j]>list[j+1]:\n",
    "            list[j],list[j+1] = list[j+1],list[j]\n",
    "        else:\n",
    "            continue\n",
    "print(list)\n"
   ]
  },
  {
   "cell_type": "code",
   "execution_count": 1,
   "metadata": {},
   "outputs": [],
   "source": [
    "#Merge Sort\n",
    "def mergeSort(arr): \n",
    "    if len(arr) >1: \n",
    "        mid = len(arr)//2  \n",
    "        L = arr[:mid]  \n",
    "        R = arr[mid:] \n",
    "  \n",
    "        mergeSort(L) \n",
    "        mergeSort(R) \n",
    "  \n",
    "        i = j = k = 0\n",
    "          \n",
    "    \n",
    "        while i < len(L) and j < len(R): \n",
    "            if L[i] < R[j]: \n",
    "                arr[k] = L[i] \n",
    "                i+=1\n",
    "            else: \n",
    "                arr[k] = R[j] \n",
    "                j+=1\n",
    "            k+=1\n",
    "          \n",
    "        \n",
    "        while i < len(L): \n",
    "            arr[k] = L[i] \n",
    "            i+=1\n",
    "            k+=1\n",
    "          \n",
    "        while j < len(R): \n",
    "            arr[k] = R[j] \n",
    "            j+=1\n",
    "            k+=1\n",
    "arr={24,41,32,11,20,35,52}\n",
    "def printList(arr): \n",
    "    for i in range(len(arr)):         \n",
    "        print(arr[i],end=\" \") \n",
    "    print()\n"
   ]
  },
  {
   "cell_type": "code",
   "execution_count": null,
   "metadata": {},
   "outputs": [],
   "source": []
  }
 ],
 "metadata": {
  "kernelspec": {
   "display_name": "Python 3",
   "language": "python",
   "name": "python3"
  },
  "language_info": {
   "codemirror_mode": {
    "name": "ipython",
    "version": 3
   },
   "file_extension": ".py",
   "mimetype": "text/x-python",
   "name": "python",
   "nbconvert_exporter": "python",
   "pygments_lexer": "ipython3",
   "version": "3.7.1"
  }
 },
 "nbformat": 4,
 "nbformat_minor": 2
}
