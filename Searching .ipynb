{
 "cells": [
  {
   "cell_type": "code",
   "execution_count": 4,
   "metadata": {},
   "outputs": [
    {
     "name": "stdout",
     "output_type": "stream",
     "text": [
      "Entre the length of the list = 4\n",
      "entre the number= 14\n",
      "entre the number= 21\n",
      "entre the number= 51\n",
      "entre the number= 1\n",
      "your list is = :\n",
      "[14, 21, 51, 1]\n",
      "[1, 14, 21, 51]\n"
     ]
    }
   ],
   "source": [
    "#searching in sorted arrey\n",
    "def ser(A,x,n):\n",
    "    start = 0\n",
    "    end = n-1\n",
    "    while(start<=end):\n",
    "        mid = len(list)//2\n",
    "    if (A[mid] = x):\n",
    "        return mid\n",
    "    elif(A[mid] > x):\n",
    "        end = mid - 1\n",
    "    elif(A[mid] < x):\n",
    "        start = mid + 1\n",
    "    return -1\n",
    "\n",
    "\n",
    "list = []\n",
    "length = int(input(\"Entre the length of the list = \"))\n",
    "for i in range(length):\n",
    "    data = int(input(\"entre the number= \"))\n",
    "    list.append(data)\n",
    "    \n",
    "print(\"your list is = :\")\n",
    "print(list)\n",
    "list.sort()\n",
    "print(list)\n",
    "\n",
    "x = int(input('Entre the number you want to search= '))\n",
    "index = ser(list, x, length)\n",
    "if (index != -1):\n",
    "    print(x)\n",
    "    \n",
    "else:\n",
    "    print('number is present in the given list')\n",
    "    \n",
    "    \n",
    "    "
   ]
  },
  {
   "cell_type": "code",
   "execution_count": null,
   "metadata": {},
   "outputs": [],
   "source": []
  }
 ],
 "metadata": {
  "kernelspec": {
   "display_name": "Python 3",
   "language": "python",
   "name": "python3"
  },
  "language_info": {
   "codemirror_mode": {
    "name": "ipython",
    "version": 3
   },
   "file_extension": ".py",
   "mimetype": "text/x-python",
   "name": "python",
   "nbconvert_exporter": "python",
   "pygments_lexer": "ipython3",
   "version": "3.7.1"
  }
 },
 "nbformat": 4,
 "nbformat_minor": 2
}
