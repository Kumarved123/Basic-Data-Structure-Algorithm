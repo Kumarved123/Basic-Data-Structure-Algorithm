{
 "cells": [
  {
   "cell_type": "code",
   "execution_count": 6,
   "metadata": {},
   "outputs": [
    {
     "name": "stdout",
     "output_type": "stream",
     "text": [
      "Fibonacci Number is  5702887\n"
     ]
    }
   ],
   "source": [
    "# dynamic programming\n",
    "\n",
    "# Function to calculate nth Fibonacci number using for Memoized version \n",
    "def fib(n, lookup):\n",
    "    if n== 0 or n == 1 : \n",
    "        lookup[n] = n \n",
    "\n",
    "\n",
    "    if lookup[n] is None: \n",
    "        lookup[n] = fib(n-1 , lookup) + fib(n-2 , lookup) \n",
    "\n",
    "    return lookup[n] \n",
    "\n",
    "def main(): \n",
    "    n = 34\n",
    "\n",
    "    lookup = [None]*(101) \n",
    "    print( \"Fibonacci Number is \", fib(n, lookup)) \n",
    "\n",
    "if __name__==\"__main__\": \n",
    "    main() \n",
    "\n"
   ]
  },
  {
   "cell_type": "code",
   "execution_count": 17,
   "metadata": {},
   "outputs": [
    {
     "data": {
      "text/plain": [
       "5702887"
      ]
     },
     "execution_count": 17,
     "metadata": {},
     "output_type": "execute_result"
    }
   ],
   "source": [
    "def fib(n):\n",
    "    \n",
    "    f = [0]*(n+1)\n",
    "    \n",
    "    f[1] = 1\n",
    "    if (n>1):\n",
    "        for i in range(2,n+1):\n",
    "            f[i] = f[i-1] + f[i-2]\n",
    "            \n",
    "    return f[n]\n",
    "\n",
    "\n",
    "    \n",
    "fib(34) \n",
    "                \n",
    "\n",
    "        \n",
    "        "
   ]
  },
  {
   "cell_type": "code",
   "execution_count": 7,
   "metadata": {},
   "outputs": [
    {
     "name": "stdout",
     "output_type": "stream",
     "text": [
      "Fibonacci number is  34\n"
     ]
    }
   ],
   "source": [
    "\n",
    "def fib(n): \n",
    "\n",
    "    f = [0]*(n+1) \n",
    " \n",
    "    f[1] = 1\n",
    " \n",
    "    for i in range(2 , n+1): \n",
    "        f[i] = f[i-1] + f[i-2] \n",
    "    return f[n] \n",
    "  \n",
    "# Driver program to test the above function \n",
    "def main(): \n",
    "    n = 9\n",
    "    print( \"Fibonacci number is \" , fib(n) )\n",
    "  \n",
    "if __name__==\"__main__\": \n",
    "    main() \n",
    "  \n",
    "# This code is contributed by Nikhil Kumar Singh (nickzuck_007) "
   ]
  },
  {
   "cell_type": "code",
   "execution_count": 5,
   "metadata": {},
   "outputs": [
    {
     "name": "stdout",
     "output_type": "stream",
     "text": [
      "entre number34\n",
      "fibonacci number is =  5702887\n"
     ]
    }
   ],
   "source": [
    "#dynamic programming \n",
    "#calculate nth Fibonacci number using for Memoized version\n",
    "\n",
    "def fib(n, store):\n",
    "    \n",
    "    if n==0 or n==1 :\n",
    "        store[n] = n\n",
    "        \n",
    "    if store[n] is None :\n",
    "        store[n] = fib(n-1 , store) + fib(n-2, store)\n",
    "        \n",
    "    return store[n]\n",
    "\n",
    "x = int(input('entre number'))\n",
    "store = [None]*101\n",
    "\n",
    "print('fibonacci number is = ', fib(x, store))"
   ]
  },
  {
   "cell_type": "code",
   "execution_count": 10,
   "metadata": {},
   "outputs": [
    {
     "name": "stdout",
     "output_type": "stream",
     "text": [
      "entre number34\n",
      "5702887\n"
     ]
    }
   ],
   "source": [
    "#dynamic programming \n",
    "#calculate nth Fibonacci number using for Tabulation version\n",
    "\n",
    "def fib(n):\n",
    "        f = [0]*(n+1)\n",
    "        f[1] = 1\n",
    "        \n",
    "        for i in range(2, n+1):\n",
    "              f[i] = f[i-1] + f[i-2] \n",
    "        return f[n]\n",
    "    \n",
    "    \n",
    "x = int(input('entre number'))\n",
    "f =[0]*(x+1)\n",
    "print(fib(x))\n",
    "    \n",
    "            "
   ]
  },
  {
   "cell_type": "code",
   "execution_count": 19,
   "metadata": {
    "slideshow": {
     "slide_type": "-"
    }
   },
   "outputs": [
    {
     "ename": "TypeError",
     "evalue": "object of type 'int' has no len()",
     "output_type": "error",
     "traceback": [
      "\u001b[1;31m---------------------------------------------------------------------------\u001b[0m",
      "\u001b[1;31mTypeError\u001b[0m                                 Traceback (most recent call last)",
      "\u001b[1;32m<ipython-input-19-5c641782fd44>\u001b[0m in \u001b[0;36m<module>\u001b[1;34m\u001b[0m\n\u001b[0;32m     15\u001b[0m \u001b[1;33m\u001b[0m\u001b[0m\n\u001b[0;32m     16\u001b[0m \u001b[0mlist\u001b[0m \u001b[1;33m=\u001b[0m \u001b[1;33m[\u001b[0m\u001b[1;36m2\u001b[0m\u001b[1;33m,\u001b[0m\u001b[1;36m35\u001b[0m\u001b[1;33m,\u001b[0m\u001b[1;36m62\u001b[0m\u001b[1;33m,\u001b[0m\u001b[1;36m2\u001b[0m\u001b[1;33m,\u001b[0m\u001b[1;36m65\u001b[0m\u001b[1;33m,\u001b[0m\u001b[1;36m24\u001b[0m\u001b[1;33m,\u001b[0m\u001b[1;36m36\u001b[0m\u001b[1;33m,\u001b[0m\u001b[1;33m]\u001b[0m\u001b[1;33m\u001b[0m\u001b[1;33m\u001b[0m\u001b[0m\n\u001b[1;32m---> 17\u001b[1;33m \u001b[0mprint\u001b[0m\u001b[1;33m(\u001b[0m\u001b[0mlis\u001b[0m\u001b[1;33m(\u001b[0m\u001b[0mlist\u001b[0m\u001b[1;33m[\u001b[0m\u001b[0mlen\u001b[0m\u001b[1;33m(\u001b[0m\u001b[0mlist\u001b[0m\u001b[1;33m)\u001b[0m\u001b[1;33m-\u001b[0m\u001b[1;36m1\u001b[0m\u001b[1;33m]\u001b[0m\u001b[1;33m)\u001b[0m\u001b[1;33m)\u001b[0m\u001b[1;33m\u001b[0m\u001b[1;33m\u001b[0m\u001b[0m\n\u001b[0m\u001b[0;32m     18\u001b[0m \u001b[1;33m\u001b[0m\u001b[0m\n\u001b[0;32m     19\u001b[0m \u001b[1;33m\u001b[0m\u001b[0m\n",
      "\u001b[1;32m<ipython-input-19-5c641782fd44>\u001b[0m in \u001b[0;36mlis\u001b[1;34m(list)\u001b[0m\n\u001b[0;32m      4\u001b[0m     \u001b[0mcount\u001b[0m \u001b[1;33m=\u001b[0m \u001b[1;36m1\u001b[0m\u001b[1;33m\u001b[0m\u001b[1;33m\u001b[0m\u001b[0m\n\u001b[0;32m      5\u001b[0m \u001b[1;33m\u001b[0m\u001b[0m\n\u001b[1;32m----> 6\u001b[1;33m     \u001b[1;32mfor\u001b[0m \u001b[0mi\u001b[0m \u001b[1;32min\u001b[0m \u001b[0mrange\u001b[0m\u001b[1;33m(\u001b[0m\u001b[0mlen\u001b[0m\u001b[1;33m(\u001b[0m\u001b[0mlist\u001b[0m\u001b[1;33m)\u001b[0m\u001b[1;33m)\u001b[0m\u001b[1;33m:\u001b[0m\u001b[1;33m\u001b[0m\u001b[1;33m\u001b[0m\u001b[0m\n\u001b[0m\u001b[0;32m      7\u001b[0m         \u001b[1;32mfor\u001b[0m \u001b[0mj\u001b[0m \u001b[1;32min\u001b[0m \u001b[0mrange\u001b[0m\u001b[1;33m(\u001b[0m \u001b[0mi\u001b[0m\u001b[1;33m)\u001b[0m\u001b[1;33m:\u001b[0m\u001b[1;33m\u001b[0m\u001b[1;33m\u001b[0m\u001b[0m\n\u001b[0;32m      8\u001b[0m             \u001b[0mmax\u001b[0m \u001b[1;33m=\u001b[0m \u001b[0mlist\u001b[0m\u001b[1;33m[\u001b[0m\u001b[1;36m0\u001b[0m\u001b[1;33m]\u001b[0m\u001b[1;33m\u001b[0m\u001b[1;33m\u001b[0m\u001b[0m\n",
      "\u001b[1;31mTypeError\u001b[0m: object of type 'int' has no len()"
     ]
    }
   ],
   "source": [
    "#Longest Increasing Subsequence\n",
    "def lis(list):\n",
    "    newlist = []\n",
    "    count = 1\n",
    "    \n",
    "    for i in range(len(list)):\n",
    "        for j in range( i):\n",
    "            \n",
    "            max = list[0]\n",
    "            if list[i] > list[j]:\n",
    "                count = count+1\n",
    "        newlist.append()\n",
    "        count = 1\n",
    "    newlist.sort()\n",
    "    return newlist\n",
    "\n",
    "list = [2,35,62,2,65,24,36,]\n",
    "\n",
    "\n",
    "\n",
    "\n",
    "\n",
    "\n",
    "\n",
    "    "
   ]
  },
  {
   "cell_type": "code",
   "execution_count": null,
   "metadata": {},
   "outputs": [],
   "source": [
    "2^(n)"
   ]
  },
  {
   "cell_type": "code",
   "execution_count": null,
   "metadata": {},
   "outputs": [],
   "source": [
    "# A naive Python implementation of LIS problem \n",
    "\n",
    "\"\"\" To make use of recursive calls, this function must return \n",
    "two things: \n",
    "1) Length of LIS ending with element arr[n-1]. We use \n",
    "max_ending_here for this purpose \n",
    "2) Overall maximum as the LIS may end with an element \n",
    "before arr[n-1] max_ref is used this purpose. \n",
    "The value of LIS of full array of size n is stored in \n",
    "*max_ref which is our final result \"\"\"\n",
    "\n",
    "# global variable to store the maximum \n",
    "global maximum \n",
    "\n",
    "def _lis(arr , n ): \n",
    "\n",
    "\t# to allow the access of global variable \n",
    "\tglobal maximum \n",
    "\n",
    "\t# Base Case \n",
    "\tif n == 1 : \n",
    "\t\treturn 1\n",
    "\n",
    "\t# maxEndingHere is the length of LIS ending with arr[n-1] \n",
    "\tmaxEndingHere = 1\n",
    "\n",
    "\t\"\"\"Recursively get all LIS ending with arr[0], arr[1]..arr[n-2] \n",
    "\tIF arr[n-1] is maller than arr[n-1], and max ending with \n",
    "\tarr[n-1] needs to be updated, then update it\"\"\"\n",
    "\tfor i in xrange(1, n): \n",
    "\t\tres = _lis(arr , i) \n",
    "\t\tif arr[i-1] < arr[n-1] and res+1 > maxEndingHere: \n",
    "\t\t\tmaxEndingHere = res +1\n",
    "\n",
    "\t# Compare maxEndingHere with overall maximum. And \n",
    "\t# update the overall maximum if needed \n",
    "\tmaximum = max(maximum , maxEndingHere) \n",
    "\n",
    "\treturn maxEndingHere \n",
    "\n",
    "def lis(arr): \n",
    "\n",
    "\t# to allow the access of global variable \n",
    "\tglobal maximum \n",
    "\n",
    "\t# lenght of arr \n",
    "\tn = len(arr) \n",
    "\n",
    "\t# maximum variable holds the result \n",
    "\tmaximum = 1\n",
    "\n",
    "\t# The function _lis() stores its result in maximum \n",
    "\t_lis(arr , n) \n",
    "\n",
    "\treturn maximum \n",
    "\n",
    "# Driver program to test the above function \n",
    "arr = [10 , 22 , 9 , 33 , 21 , 50 , 41 , 60] \n",
    "n = len(arr) \n",
    "print \"Length of lis is \", lis(arr) \n",
    "\n",
    "# This code is contributed by NIKHIL KUMAR SINGH \n"
   ]
  }
 ],
 "metadata": {
  "celltoolbar": "Slideshow",
  "kernelspec": {
   "display_name": "Python 3",
   "language": "python",
   "name": "python3"
  }
 },
 "nbformat": 4,
 "nbformat_minor": 2
}
