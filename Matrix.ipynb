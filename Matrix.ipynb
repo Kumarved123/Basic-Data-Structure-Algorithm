{
 "cells": [
  {
   "cell_type": "code",
   "execution_count": 32,
   "metadata": {},
   "outputs": [
    {
     "name": "stdout",
     "output_type": "stream",
     "text": [
      "Length of X is =  3\n",
      "Length of Y is =  3\n",
      "[17, 15, 4]\n",
      "[10, 12, 9]\n",
      "[11, 13, 18]\n"
     ]
    }
   ],
   "source": [
    "# Addition of matrix using normal method:\n",
    "#Matries are given X and Y.\n",
    "\n",
    "X = [[12,7,3],\n",
    "    [4,5,6],\n",
    "    [7,8,9]]\n",
    "\n",
    "Y = [[5,8,1],\n",
    "    [6,7,3],\n",
    "    [4,5,9]]\n",
    "\n",
    "result = [[0,0,0],\n",
    "         [0,0,0],\n",
    "         [0,0,0]]\n",
    "print('Length of X is = ',len(X))\n",
    "print('Length of Y is = ',len(Y))\n",
    "\n",
    "def Add(X,Y):\n",
    "\n",
    "    for i in range(len(X)):\n",
    "  \n",
    "        for j in range(len(X[0])):\n",
    "            result[i][j] = X[i][j] + Y[i][j]\n",
    "    for r in result:\n",
    "        print(r)\n",
    "    \n",
    "Add(X,Y)"
   ]
  },
  {
   "cell_type": "code",
   "execution_count": 36,
   "metadata": {},
   "outputs": [
    {
     "name": "stdout",
     "output_type": "stream",
     "text": [
      "Length of X is =  3\n",
      "Length of Y is =  3\n",
      "[114, 160, 60]\n",
      "[74, 97, 73]\n",
      "[119, 157, 112]\n"
     ]
    }
   ],
   "source": [
    "# Addition of matrix using normal method:\n",
    "#Matries are given X and Y.\n",
    "\n",
    "X = [[12,7,3],\n",
    "    [4,5,6],\n",
    "    [7,8,9]]\n",
    "\n",
    "Y = [[5,8,1],\n",
    "    [6,7,3],\n",
    "    [4,5,9]]\n",
    "\n",
    "result = [[0,0,0],\n",
    "         [0,0,0],\n",
    "         [0,0,0]]\n",
    "print('Length of X is = ',len(X))\n",
    "print('Length of Y is = ',len(Y))\n",
    "\n",
    "\n",
    "def Mul(X,Y):\n",
    "    for i in range(len(X)):\n",
    "        for j in range(len(Y[0])):\n",
    "            for k in range(len(Y)):\n",
    "                result[i][j] += X[i][k] * Y[k][j]\n",
    "                \n",
    "    for r in result:\n",
    "        print(r)\n",
    "        \n",
    "\n",
    "    \n",
    "Mul(X,Y)"
   ]
  },
  {
   "cell_type": "code",
   "execution_count": 37,
   "metadata": {},
   "outputs": [
    {
     "name": "stdout",
     "output_type": "stream",
     "text": [
      "Length of X is =  3\n",
      "Length of Y is =  3\n",
      "[7, -1, 2]\n",
      "[-2, -2, 3]\n",
      "[3, 3, 0]\n"
     ]
    }
   ],
   "source": [
    "# Substraction of matrix using normal method:\n",
    "#Matries are given X and Y.\n",
    "\n",
    "X = [[12,7,3],\n",
    "    [4,5,6],\n",
    "    [7,8,9]]\n",
    "\n",
    "Y = [[5,8,1],\n",
    "    [6,7,3],\n",
    "    [4,5,9]]\n",
    "\n",
    "result = [[0,0,0],\n",
    "         [0,0,0],\n",
    "         [0,0,0]]\n",
    "print('Length of X is = ',len(X))\n",
    "print('Length of Y is = ',len(Y))\n",
    "\n",
    "def Sub(X,Y):\n",
    "\n",
    "    for i in range(len(X)):\n",
    "  \n",
    "        for j in range(len(X[0])):\n",
    "            result[i][j] = X[i][j] - Y[i][j]\n",
    "    for r in result:\n",
    "        print(r)\n",
    "    \n",
    "Sub(X,Y)"
   ]
  },
  {
   "cell_type": "code",
   "execution_count": null,
   "metadata": {},
   "outputs": [],
   "source": []
  }
 ],
 "metadata": {
  "kernelspec": {
   "display_name": "Python 3",
   "language": "python",
   "name": "python3"
  },
  "language_info": {
   "codemirror_mode": {
    "name": "ipython",
    "version": 3
   },
   "file_extension": ".py",
   "mimetype": "text/x-python",
   "name": "python",
   "nbconvert_exporter": "python",
   "pygments_lexer": "ipython3",
   "version": "3.7.1"
  }
 },
 "nbformat": 4,
 "nbformat_minor": 2
}
